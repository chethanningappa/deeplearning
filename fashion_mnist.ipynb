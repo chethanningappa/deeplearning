{
 "cells": [
  {
   "cell_type": "code",
   "execution_count": 46,
   "metadata": {},
   "outputs": [],
   "source": [
    "import tensorflow as tf"
   ]
  },
  {
   "cell_type": "code",
   "execution_count": 47,
   "metadata": {},
   "outputs": [],
   "source": [
    "mnist = tf.keras.datasets.fashion_mnist"
   ]
  },
  {
   "cell_type": "code",
   "execution_count": 48,
   "metadata": {},
   "outputs": [],
   "source": [
    "(train_images, train_lables), (test_images, test_lables)= mnist.load_data()"
   ]
  },
  {
   "cell_type": "code",
   "execution_count": 49,
   "metadata": {},
   "outputs": [],
   "source": [
    "import matplotlib.pyplot as plt"
   ]
  },
  {
   "cell_type": "code",
   "execution_count": 50,
   "metadata": {},
   "outputs": [
    {
     "name": "stdout",
     "output_type": "stream",
     "text": [
      "6\n"
     ]
    },
    {
     "data": {
      "image/png": "[encoded data removed]",
      "text/plain": [
       "<Figure size 432x288 with 1 Axes>"
      ]
     },
     "metadata": {
      "needs_background": "light"
     },
     "output_type": "display_data"
    }
   ],
   "source": [
    "plt.imshow(train_images[266])\n",
    "print(train_lables[256])"
   ]
  },
  {
   "cell_type": "code",
   "execution_count": 51,
   "metadata": {},
   "outputs": [],
   "source": [
    "#normalizingthemodel\n",
    "\n",
    "train_image = train_images/255.0\n",
    "test_image = test_images/255.0"
   ]
  },
  {
   "cell_type": "code",
   "execution_count": 52,
   "metadata": {},
   "outputs": [
    {
     "data": {
      "text/plain": [
       "<matplotlib.image.AxesImage at 0x2355b848668>"
      ]
     },
     "execution_count": 52,
     "metadata": {},
     "output_type": "execute_result"
    },
    {
     "data": {
      "image/png": "[encoded data removed]",
      "text/plain": [
       "<Figure size 432x288 with 1 Axes>"
      ]
     },
     "metadata": {
      "needs_background": "light"
     },
     "output_type": "display_data"
    }
   ],
   "source": [
    "plt.imshow(train_images[0])"
   ]
  },
  {
   "cell_type": "code",
   "execution_count": 53,
   "metadata": {},
   "outputs": [],
   "source": [
    "#defining model\n",
    "\n",
    "model= tf.keras.models.Sequential([tf.keras.layers.Flatten(),#inputis made to 1 layer\n",
    "                                 tf.keras.layers.Dense(128, activation= tf.nn.relu), #128 activatate funcations,\n",
    "                                 #tf.keras.layers.Dense(128, activation= tf.nn.relu), #128 activatate funcations,\n",
    "                                 #tf.keras.layers.Dense(128, activation= tf.nn.relu), #128 activatate funcations,\n",
    "                                 #tf.keras.layers.Dense(64, activation= tf.nn.relu), #128 activatate funcations,\n",
    "                                 #tf.keras.layers.Dense(32, activation= tf.nn.relu), #128 activatate funcations,\n",
    "                                 tf.keras.layers.Dense(10,activation= tf.nn.softmax)])#10 classes"
   ]
  },
  {
   "cell_type": "code",
   "execution_count": 54,
   "metadata": {},
   "outputs": [
    {
     "name": "stdout",
     "output_type": "stream",
     "text": [
      "Epoch 1/10\n",
      "60000/60000 [==============================] - 14s 241us/step - loss: 0.4952 - acc: 0.8256\n",
      "Epoch 2/10\n",
      "60000/60000 [==============================] - 11s 191us/step - loss: 0.3737 - acc: 0.8656\n",
      "Epoch 3/10\n",
      "60000/60000 [==============================] - 12s 197us/step - loss: 0.3359 - acc: 0.8775\n",
      "Epoch 4/10\n",
      "60000/60000 [==============================] - 8s 136us/step - loss: 0.3127 - acc: 0.8846\n",
      "Epoch 5/10\n",
      "60000/60000 [==============================] - 9s 145us/step - loss: 0.2948 - acc: 0.8914\n",
      "Epoch 6/10\n",
      "60000/60000 [==============================] - 14s 225us/step - loss: 0.2761 - acc: 0.8972\n",
      "Epoch 7/10\n",
      "60000/60000 [==============================] - 10s 172us/step - loss: 0.2653 - acc: 0.9015\n",
      "Epoch 8/10\n",
      "60000/60000 [==============================] - 15s 246us/step - loss: 0.2547 - acc: 0.9049\n",
      "Epoch 9/10\n",
      "60000/60000 [==============================] - 12s 199us/step - loss: 0.2451 - acc: 0.9090\n",
      "Epoch 10/10\n",
      "60000/60000 [==============================] - 10s 173us/step - loss: 0.2373 - acc: 0.9117\n"
     ]
    },
    {
     "data": {
      "text/plain": [
       "<tensorflow.python.keras.callbacks.History at 0x2355b876390>"
      ]
     },
     "execution_count": 54,
     "metadata": {},
     "output_type": "execute_result"
    }
   ],
   "source": [
    "model.compile(optimizer = tf.keras.optimizers.Adam(),\n",
    "             loss = 'sparse_categorical_crossentropy',\n",
    "             metrics=['accuracy'])\n",
    "\n",
    "model.fit(train_image, train_lables, epochs=10)"
   ]
  },
  {
   "cell_type": "code",
   "execution_count": 55,
   "metadata": {},
   "outputs": [
    {
     "name": "stdout",
     "output_type": "stream",
     "text": [
      "10000/10000 [==============================] - 4s 350us/step\n"
     ]
    },
    {
     "data": {
      "text/plain": [
       "[2.189741788899896, 0.8623]"
      ]
     },
     "execution_count": 55,
     "metadata": {},
     "output_type": "execute_result"
    }
   ],
   "source": [
    "model.evaluate(test_images,test_lables)"
   ]
  },
  {
   "cell_type": "code",
   "execution_count": 56,
   "metadata": {},
   "outputs": [
    {
     "name": "stdout",
     "output_type": "stream",
     "text": [
      "[0. 0. 0. 0. 1. 0. 0. 0. 0. 0.]\n"
     ]
    }
   ],
   "source": [
    "classification = model.predict(test_images)\n",
    "print(classification[10])"
   ]
  },
  {
   "cell_type": "code",
   "execution_count": null,
   "metadata": {},
   "outputs": [],
   "source": []
  }
 ],
 "metadata": {
  "kernelspec": {
   "display_name": "Python 3",
   "language": "python",
   "name": "python3"
  },
  "language_info": {
   "codemirror_mode": {
    "name": "ipython",
    "version": 3
   },
   "file_extension": ".py",
   "mimetype": "text/x-python",
   "name": "python",
   "nbconvert_exporter": "python",
   "pygments_lexer": "ipython3",
   "version": "3.6.6"
  }
 },
 "nbformat": 4,
 "nbformat_minor": 2
}
